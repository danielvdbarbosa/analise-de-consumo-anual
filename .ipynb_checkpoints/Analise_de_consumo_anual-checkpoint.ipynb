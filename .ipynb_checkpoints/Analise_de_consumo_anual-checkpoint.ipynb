{
 "cells": [
  {
   "cell_type": "code",
   "execution_count": null,
   "metadata": {
    "id": "2YdeN-gznE4K"
   },
   "outputs": [],
   "source": [
    "from matplotlib import pyplot as plt\n",
    "import numpy as np\n",
    "import random"
   ]
  },
  {
   "cell_type": "code",
   "execution_count": null,
   "metadata": {
    "id": "xIet6VR-nIMq"
   },
   "outputs": [],
   "source": [
    "LISTA_MESES = [\"Janeiro\", \"Fevereiro\", \"Março\", \"Abril\", \"Maio\",\n",
    "               \"Junho\", \"Julho\", \"Agosto\", \"Setembro\", \"Outubro\",\n",
    "               \"Novembro\", \"Dezembro\"]"
   ]
  },
  {
   "cell_type": "code",
   "execution_count": null,
   "metadata": {
    "id": "KUDz0JaPZUJ5"
   },
   "outputs": [],
   "source": [
    "lista_valores = []\n",
    "lista_media = []\n",
    "\n",
    "for indice, mes in enumerate(LISTA_MESES):\n",
    "    \n",
    "    lista_valores.append(random.randint(100,350))\n",
    "    \n",
    "    if indice == 0:\n",
    "        lista_media.append(lista_valores[indice])\n",
    "        \n",
    "    else:\n",
    "        lista_media.append((lista_valores[indice] + lista_valores[indice-1] ) / 2) \n",
    "        \n",
    "print(\"Lista de medias: \", lista_media)\n",
    "print(\"Lista de valores: \", lista_valores)"
   ]
  },
  {
   "cell_type": "code",
   "execution_count": null,
   "metadata": {
    "id": "Da0CTcsGZVrH"
   },
   "outputs": [],
   "source": [
    "primeiro_mes = int(input(\"Digite o primeiro mês a ser comparado: (Digite de 1 a 12)\"))-1\n",
    "segundo_mes = int(input(\"Digite o segundo mês a ser comparado: (Digite de 1 a 12)\"))-1\n",
    "economia = lista_valores[primeiro_mes] - lista_valores[segundo_mes]\n",
    "  \n",
    "if economia > 0: \n",
    "    print(\"Comparando os meses \" + LISTA_MESES[primeiro_mes] + \" e \" + LISTA_MESES[segundo_mes] +\n",
    "          \" você economizou \" + str(economia) + \" reais.\")\n",
    "\n",
    "elif economia == 0:\n",
    "    print(\"O consumo nos dois meses foi igual.\")\n",
    "\n",
    "else:\n",
    "    print(\"Comparando os meses \" + LISTA_MESES[primeiro_mes] + \" e \" + LISTA_MESES[segundo_mes] +\n",
    "          \" você gastou \" +  str(abs(economia)) + \" reais a mais.\")"
   ]
  },
  {
   "cell_type": "code",
   "execution_count": null,
   "metadata": {
    "id": "9hFxX4CnP7TY"
   },
   "outputs": [],
   "source": [
    "#abreviando meses para exibição no gráfico\n",
    "meses_abreviados = []\n",
    "for mes in LISTA_MESES:\n",
    "    \n",
    "    meses_abreviados.append(mes[0:3])"
   ]
  },
  {
   "cell_type": "code",
   "execution_count": null,
   "metadata": {
    "id": "ks3aJWaL35NY"
   },
   "outputs": [],
   "source": [
    "lista_media = np.average(lista_valores)\n",
    "print(lista_media)"
   ]
  },
  {
   "cell_type": "code",
   "execution_count": null,
   "metadata": {
    "id": "H3QQm_EKJ3RI"
   },
   "outputs": [],
   "source": [
    "#capturar consumos\n",
    "valor_maximo = np.max(lista_valores)\n",
    "valor_minimo = np.min(lista_valores)\n",
    "lista_max = []\n",
    "lista_min = []\n",
    "  \n",
    "for indice, valor in enumerate(lista_valores):\n",
    "    if valor == valor_maximo:\n",
    "        \n",
    "        lista_max.append(LISTA_MESES[indice])\n",
    "        \n",
    "    elif valor == valor_minimo:\n",
    "        \n",
    "        lista_min.append(LISTA_MESES[indice])\n",
    "\n",
    "#exibir resultados\n",
    "print(\"Os meses com maior consumo foram: \" + \", \".join(lista_max) + \".\")\n",
    "print(\"Os meses com menor consumo foram: \" + \", \".join(lista_min) + \".\")\n",
    "print(\"A media de consumo anual foi de \" + str(np.average(lista_valores)) + \".\")\n",
    "print(\"A mediana de consumo anual foi de \" + str(np.median(lista_valores)) + \".\")"
   ]
  },
  {
   "cell_type": "code",
   "execution_count": null,
   "metadata": {
    "id": "S59oIrhtgaI6"
   },
   "outputs": [],
   "source": [
    "#plt.plot(meses_abreviados, lista_valores)\n",
    "#plt.plot(lista_valores)\n",
    "#plt.plot(lista_media)\n",
    "#plt.legend()\n",
    "#plt.show()\n",
    "#plt.clf()"
   ]
  },
  {
   "cell_type": "code",
   "execution_count": null,
   "metadata": {},
   "outputs": [],
   "source": []
  }
 ],
 "metadata": {
  "colab": {
   "provenance": []
  },
  "kernelspec": {
   "display_name": "Python 3 (ipykernel)",
   "language": "python",
   "name": "python3"
  },
  "language_info": {
   "codemirror_mode": {
    "name": "ipython",
    "version": 3
   },
   "file_extension": ".py",
   "mimetype": "text/x-python",
   "name": "python",
   "nbconvert_exporter": "python",
   "pygments_lexer": "ipython3",
   "version": "3.10.6"
  },
  "vscode": {
   "interpreter": {
    "hash": "fa811fb144a2043e87205d365a41ba9a8325adaf9df8db05f66e6c13a79aa748"
   }
  }
 },
 "nbformat": 4,
 "nbformat_minor": 1
}
