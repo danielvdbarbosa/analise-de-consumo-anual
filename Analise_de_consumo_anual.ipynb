{
  "cells": [
    {
      "cell_type": "markdown",
      "metadata": {
        "id": "9CN3ELuenAgm"
      },
      "source": [
        "Importar Bibliotecas\n"
      ]
    },
    {
      "cell_type": "code",
      "execution_count": 3,
      "metadata": {
        "id": "2YdeN-gznE4K"
      },
      "outputs": [],
      "source": [
        "from matplotlib import pyplot as plt\n",
        "import numpy as np"
      ]
    },
    {
      "cell_type": "markdown",
      "metadata": {
        "id": "5Nbf9GrknJPl"
      },
      "source": [
        "Declarar Constantes\n"
      ]
    },
    {
      "cell_type": "code",
      "execution_count": 4,
      "metadata": {
        "id": "xIet6VR-nIMq"
      },
      "outputs": [],
      "source": [
        "LISTA_MESES = [\"Janeiro\", \"Fevereiro\", \"Março\", \"Abril\", \"Maio\",\n",
        "               \"Junho\", \"Julho\", \"Agosto\", \"Setembro\", \"Outubro\",\n",
        "               \"Novembro\", \"Dezembro\"]"
      ]
    },
    {
      "cell_type": "markdown",
      "metadata": {
        "id": "OlR3YjSfZQhn"
      },
      "source": [
        "Criar funcao de Entrada de valores\n"
      ]
    },
    {
      "cell_type": "code",
      "execution_count": 5,
      "metadata": {
        "id": "KUDz0JaPZUJ5"
      },
      "outputs": [],
      "source": [
        "def entrada_valores():\n",
        "  lista_valores = []\n",
        "  lista_media = []\n",
        "\n",
        "  for indice, mes in enumerate(LISTA_MESES):\n",
        "    lista_valores.append(float(input(\"Digite o valor da conta de \" + mes + \":\")))\n",
        "\n",
        "    if indice == 0:\n",
        "      lista_media.append(lista_valores[indice])\n",
        "    else:\n",
        "      lista_media.append((lista_valores[indice] + lista_valores[indice-1] ) / 2) \n",
        "\n",
        "  return lista_valores, lista_media  "
      ]
    },
    {
      "cell_type": "markdown",
      "metadata": {
        "id": "9DpRJ3C0ZWrM"
      },
      "source": [
        "Criar funcao de Comparacao de meses \n"
      ]
    },
    {
      "cell_type": "code",
      "execution_count": 6,
      "metadata": {
        "id": "Da0CTcsGZVrH"
      },
      "outputs": [],
      "source": [
        "def comparar_meses(lista_valores):\n",
        "  primeiro_mes = int(input(\"Digite o primeiro mês a ser comparado: (Digite de 1 a 12)\"))-1\n",
        "  segundo_mes = int(input(\"Digite o segundo mês a ser comparado: (Digite de 1 a 12)\"))-1\n",
        "  economia = lista_valores[primeiro_mes] - lista_valores[segundo_mes]\n",
        "  \n",
        "  if economia > 0: \n",
        "    print(\"Comparando os meses \" + LISTA_MESES[primeiro_mes] + \" e \" + LISTA_MESES[segundo_mes] +\n",
        "          \" você economizou \" + str(economia) + \" reais.\")\n",
        "  elif economia == 0:\n",
        "    print(\"O consumo nos dois meses foi igual.\")\n",
        "  else:\n",
        "    print(\"Comparando os meses \" + LISTA_MESES[primeiro_mes] + \" e \" + LISTA_MESES[segundo_mes] +\n",
        "          \" você gastou \" +  str(abs(economia)) + \" reais a mais.\")"
      ]
    },
    {
      "cell_type": "markdown",
      "metadata": {
        "id": "ZEcigV-eP1iF"
      },
      "source": [
        "Criar funcao de Abreviação dos Meses"
      ]
    },
    {
      "cell_type": "code",
      "execution_count": 7,
      "metadata": {
        "id": "9hFxX4CnP7TY"
      },
      "outputs": [],
      "source": [
        "def abreviar_meses():\n",
        "  meses_abreviados = []\n",
        "  for mes in LISTA_MESES:\n",
        "    meses_abreviados.append(mes[0:3])\n",
        "  return meses_abreviados"
      ]
    },
    {
      "cell_type": "markdown",
      "metadata": {
        "id": "eNttnLuW30sH"
      },
      "source": [
        "Criar funcao de Calculo de Media"
      ]
    },
    {
      "cell_type": "code",
      "execution_count": 8,
      "metadata": {
        "id": "ks3aJWaL35NY"
      },
      "outputs": [],
      "source": [
        "def calcular_media(lista_valores):\n",
        "  lista_media = np.average(lista_valores)\n",
        "  return lista_media"
      ]
    },
    {
      "cell_type": "markdown",
      "metadata": {
        "id": "6LxMuMpDJxvh"
      },
      "source": [
        "Criar funcao de Estatisticas"
      ]
    },
    {
      "cell_type": "code",
      "execution_count": 9,
      "metadata": {
        "id": "H3QQm_EKJ3RI"
      },
      "outputs": [],
      "source": [
        "def gerar_estatistica(lista_valores, lista_media):\n",
        "  \n",
        "#capturar consumos\n",
        "  \n",
        "  valor_maximo = np.max(lista_valores)\n",
        "  valor_minimo = np.min(lista_valores)\n",
        "  lista_max = []\n",
        "  lista_min = []\n",
        "  \n",
        "  for indice, valor in enumerate(lista_valores):\n",
        "    if valor == valor_maximo:\n",
        "      lista_max.append(LISTA_MESES[indice])\n",
        "    elif valor == valor_minimo:\n",
        "      lista_min.append(LISTA_MESES[indice])\n",
        "  \n",
        "#exibir resultados\n",
        "\n",
        "  print(\"Os meses com maior consumo foram: \" + \", \".join(lista_max) + \".\")\n",
        "  print(\"Os meses com menor consumo foram: \" + \", \".join(lista_min) + \".\")\n",
        "  print(\"A media de consumo anual foi de \" + str(np.average(lista_valores)) + \".\")\n",
        "  print(\"A mediana de consumo anual foi de \" + str(np.median(lista_valores)) + \".\")"
      ]
    },
    {
      "cell_type": "markdown",
      "metadata": {
        "id": "4AVlUZFAgY0d"
      },
      "source": [
        "Criar funcao de Visualização de Dados"
      ]
    },
    {
      "cell_type": "code",
      "execution_count": 10,
      "metadata": {
        "id": "S59oIrhtgaI6"
      },
      "outputs": [],
      "source": [
        "def gerar_grafico(lista_valores, meses_abreviados, lista_media):\n",
        "  plt.plot(meses_abreviados, lista_valores, label = \"Valor mensal\")\n",
        "  plt.plot(meses_abreviados, lista_media, label = \"Tendencia\" )\n",
        "  plt.legend()\n",
        "  plt.show()\n",
        "  plt.clf()"
      ]
    },
    {
      "cell_type": "markdown",
      "metadata": {
        "id": "XooYUMDnGg3M"
      },
      "source": [
        "Chamar Entrada de Valores\n",
        "\n"
      ]
    },
    {
      "cell_type": "code",
      "execution_count": 11,
      "metadata": {
        "id": "ANUFCJhtEoGR"
      },
      "outputs": [],
      "source": [
        "lista_valores, lista_media = entrada_valores()"
      ]
    },
    {
      "cell_type": "markdown",
      "metadata": {
        "id": "tJeDbe2EOLgO"
      },
      "source": [
        "Chamar Estatisticas"
      ]
    },
    {
      "cell_type": "code",
      "execution_count": 12,
      "metadata": {
        "id": "LsZHe5rDOOlA"
      },
      "outputs": [
        {
          "name": "stdout",
          "output_type": "stream",
          "text": [
            "Os meses com maior consumo foram: Fevereiro, Dezembro.\n",
            "Os meses com menor consumo foram: Janeiro, Março, Setembro.\n",
            "A media de consumo anual foi de 133.33333333333334.\n",
            "A mediana de consumo anual foi de 120.0.\n"
          ]
        }
      ],
      "source": [
        "gerar_estatistica(lista_valores,lista_media)"
      ]
    },
    {
      "cell_type": "markdown",
      "metadata": {
        "id": "qF-krdTIeSI1"
      },
      "source": [
        "Chamar Graficos"
      ]
    },
    {
      "cell_type": "code",
      "execution_count": 13,
      "metadata": {
        "id": "ZPHVXc-YeWTN"
      },
      "outputs": [
        {
          "data": {
            "image/png": "[encoded data removed]",
            "text/plain": [
              "<Figure size 640x480 with 1 Axes>"
            ]
          },
          "metadata": {},
          "output_type": "display_data"
        },
        {
          "data": {
            "text/plain": [
              "<Figure size 640x480 with 0 Axes>"
            ]
          },
          "metadata": {},
          "output_type": "display_data"
        }
      ],
      "source": [
        "meses_abreviados = abreviar_meses()\n",
        "gerar_grafico(lista_valores, meses_abreviados, lista_media)"
      ]
    },
    {
      "cell_type": "markdown",
      "metadata": {
        "id": "lUNBdKM60kKu"
      },
      "source": [
        "Chamar Comparacao de Meses\n"
      ]
    },
    {
      "cell_type": "code",
      "execution_count": 14,
      "metadata": {
        "id": "bQMELMhrzuXV"
      },
      "outputs": [
        {
          "name": "stdout",
          "output_type": "stream",
          "text": [
            "Comparando os meses Janeiro e Dezembro você gastou 100.0 reais a mais.\n"
          ]
        }
      ],
      "source": [
        "comparar_meses(lista_valores)"
      ]
    },
    {
      "cell_type": "markdown",
      "metadata": {
        "id": "u_eUV5rcm9Lh"
      },
      "source": []
    }
  ],
  "metadata": {
    "colab": {
      "provenance": []
    },
    "kernelspec": {
      "display_name": "Python 3",
      "language": "python",
      "name": "python3"
    },
    "language_info": {
      "codemirror_mode": {
        "name": "ipython",
        "version": 3
      },
      "file_extension": ".py",
      "mimetype": "text/x-python",
      "name": "python",
      "nbconvert_exporter": "python",
      "pygments_lexer": "ipython3",
      "version": "3.11.1"
    },
    "vscode": {
      "interpreter": {
        "hash": "fa811fb144a2043e87205d365a41ba9a8325adaf9df8db05f66e6c13a79aa748"
      }
    }
  },
  "nbformat": 4,
  "nbformat_minor": 0
}
